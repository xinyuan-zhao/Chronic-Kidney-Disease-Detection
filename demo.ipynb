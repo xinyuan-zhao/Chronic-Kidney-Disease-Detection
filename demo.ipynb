{
 "cells": [
  {
   "cell_type": "code",
   "execution_count": 0,
   "metadata": {
    "application/vnd.databricks.v1+cell": {
     "cellMetadata": {},
     "inputWidgets": {},
     "nuid": "02bb24cb-a9d7-4db1-b315-37fa37da25a5",
     "showTitle": false,
     "tableResultSettingsMap": {},
     "title": ""
    }
   },
   "outputs": [],
   "source": [
    "import pandas as pd\n",
    "from mlflow.pyfunc import load_model\n",
    "\n",
    "# Load model from MLflow Model Registry (latest version)\n",
    "model = load_model(\"models:/ckd_xgboost_model/latest\")\n",
    "\n",
    "# Sample new data (from your test set or new input)\n",
    "sample_input = X_test.drop(columns=['id']).iloc[:5]\n",
    "\n",
    "# Make predictions\n",
    "predictions = model.predict(sample_input)\n",
    "\n",
    "# Output\n",
    "print(predictions)\n"
   ]
  }
 ],
 "metadata": {
  "application/vnd.databricks.v1+notebook": {
   "computePreferences": null,
   "dashboards": [],
   "environmentMetadata": {
    "base_environment": "",
    "environment_version": "2"
   },
   "inputWidgetPreferences": null,
   "language": "python",
   "notebookMetadata": {
    "pythonIndentUnit": 4
   },
   "notebookName": "demo",
   "widgets": {}
  },
  "language_info": {
   "name": "python"
  }
 },
 "nbformat": 4,
 "nbformat_minor": 0
}
